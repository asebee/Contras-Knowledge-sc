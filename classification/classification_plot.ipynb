{
 "cells": [
  {
   "cell_type": "code",
   "execution_count": 10,
   "id": "4a3af205",
   "metadata": {},
   "outputs": [],
   "source": [
    "import numpy as np\n",
    "import matplotlib.pyplot as plt\n",
    "import pandas as pd\n",
    "import seaborn as sns\n",
    "import scanpy as sc\n"
   ]
  },
  {
   "cell_type": "code",
   "execution_count": 12,
   "id": "aadb3666",
   "metadata": {},
   "outputs": [
    {
     "data": {
      "text/plain": [
       "0              \n",
       "cd34               9162\n",
       "cytotoxic_t        7631\n",
       "cd56_nk            7555\n",
       "cd4_t_helper       7046\n",
       "memory_t           6969\n",
       "regulatory_t       6485\n",
       "naive_cytotoxic    5672\n",
       "naive_t            4569\n",
       "b_cells            4033\n",
       "cd14_monocytes      498\n",
       "Name: count, dtype: int64"
      ]
     },
     "execution_count": 12,
     "metadata": {},
     "output_type": "execute_result"
    }
   ],
   "source": [
    "#numpy 读取zheng68kall_label.npy\n",
    "zheng68kall_label = np.load('zheng68kall_label.npy',allow_pickle=True)\n",
    "pd.DataFrame(zheng68kall_label).value_counts()\n"
   ]
  },
  {
   "cell_type": "code",
   "execution_count": 19,
   "id": "8b3f15cc",
   "metadata": {},
   "outputs": [
    {
     "name": "stdout",
     "output_type": "stream",
     "text": [
      "AnnData object with n_obs × n_vars = 59620 × 1067\n",
      "    var: 'highly_variable', 'means', 'dispersions', 'dispersions_norm', 'mean', 'std'\n",
      "    uns: 'hvg', 'log1p', 'pca'\n",
      "    obsm: 'X_pca'\n",
      "    varm: 'PCs'\n",
      "Empty DataFrame\n",
      "Columns: []\n",
      "Index: [0, 1, 2, 3, 4]\n",
      "    highly_variable     means  dispersions  dispersions_norm      mean  \\\n",
      "69             True  0.119960     1.982973          0.694837  0.039515   \n",
      "77             True  0.101141     2.007319          0.879068  0.033145   \n",
      "83             True  0.057550     2.031805          1.064357  0.018636   \n",
      "86             True  0.507516     2.081581          1.072649  0.188833   \n",
      "91             True  0.248289     2.011440          0.910256  0.085794   \n",
      "\n",
      "         std  \n",
      "69  0.275697  \n",
      "77  0.251706  \n",
      "83  0.188568  \n",
      "86  0.597722  \n",
      "91  0.404059  \n",
      "dict_keys(['hvg', 'log1p', 'pca'])\n"
     ]
    }
   ],
   "source": [
    "adata = sc.read_h5ad('zheng68k_reference.h5ad')\n",
    "# 查看数据形状\n",
    "print(adata)  # 输出：(n_cells, n_genes)\n",
    "\n",
    "# 查看细胞元数据 (obs)\n",
    "print(adata.obs.head())  # 显示前几行细胞元数据\n",
    "\n",
    "# 查看基因元数据 (var)\n",
    "print(adata.var.head())  # 显示前几行基因元数据\n",
    "\n",
    "# 查看未结构化数据 (uns)\n",
    "print(adata.uns.keys())  # 显示 uns 中包含的键"
   ]
  },
  {
   "cell_type": "code",
   "execution_count": 16,
   "id": "5c137a27",
   "metadata": {},
   "outputs": [
    {
     "name": "stdout",
     "output_type": "stream",
     "text": [
      "    highly_variable     means  dispersions  dispersions_norm      mean  \\\n",
      "69             True  0.119960     1.982973          0.694837  0.039515   \n",
      "77             True  0.101141     2.007319          0.879068  0.033145   \n",
      "83             True  0.057550     2.031805          1.064357  0.018636   \n",
      "86             True  0.507516     2.081581          1.072649  0.188833   \n",
      "91             True  0.248289     2.011440          0.910256  0.085794   \n",
      "\n",
      "         std  \n",
      "69  0.275697  \n",
      "77  0.251706  \n",
      "83  0.188568  \n",
      "86  0.597722  \n",
      "91  0.404059  \n"
     ]
    }
   ],
   "source": [
    "\n",
    "# 查看基因元数据 (var)\n",
    "print(adata.var.head())  # 显示前几行基因元数据\n"
   ]
  },
  {
   "cell_type": "code",
   "execution_count": 22,
   "id": "a4713c29",
   "metadata": {},
   "outputs": [
    {
     "name": "stdout",
     "output_type": "stream",
     "text": [
      "AxisArrays with keys: PCs\n"
     ]
    }
   ],
   "source": [
    "print(adata.varm) "
   ]
  }
 ],
 "metadata": {
  "kernelspec": {
   "display_name": "scfoundation",
   "language": "python",
   "name": "python3"
  },
  "language_info": {
   "codemirror_mode": {
    "name": "ipython",
    "version": 3
   },
   "file_extension": ".py",
   "mimetype": "text/x-python",
   "name": "python",
   "nbconvert_exporter": "python",
   "pygments_lexer": "ipython3",
   "version": "3.13.2"
  }
 },
 "nbformat": 4,
 "nbformat_minor": 5
}
