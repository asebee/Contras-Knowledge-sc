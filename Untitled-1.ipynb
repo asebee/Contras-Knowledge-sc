{
 "cells": [
  {
   "cell_type": "markdown",
   "id": "e30ec123",
   "metadata": {},
   "source": [
    "# 导入必要的库\n",
    "导入所需的Python库，例如scanpy、matplotlib、seaborn等。"
   ]
  },
  {
   "cell_type": "code",
   "execution_count": null,
   "id": "4cc35970",
   "metadata": {},
   "outputs": [],
   "source": [
    "# 导入必要的库\n",
    "import scanpy as sc\n",
    "import matplotlib.pyplot as plt\n",
    "import seaborn as sns"
   ]
  },
  {
   "cell_type": "markdown",
   "id": "991c85d2",
   "metadata": {},
   "source": [
    "# 加载PBMC10k数据集\n",
    "使用scanpy加载PBMC10k数据集，并检查数据的基本信息。"
   ]
  },
  {
   "cell_type": "code",
   "execution_count": null,
   "id": "7d3deb51",
   "metadata": {},
   "outputs": [],
   "source": [
    "# 加载PBMC10k数据集\n",
    "adata = sc.read_10x_h5('pbmc10k_raw.h5')\n",
    "adata.var_names_make_unique()\n",
    "print(adata)\n",
    "sc.pp.calculate_qc_metrics(adata, inplace=True)"
   ]
  },
  {
   "cell_type": "markdown",
   "id": "6a5bfda1",
   "metadata": {},
   "source": [
    "# 执行批次矫正\n",
    "使用Harmony或Scanorama等工具对PBMC10k数据集进行批次矫正。"
   ]
  },
  {
   "cell_type": "code",
   "execution_count": null,
   "id": "81918e21",
   "metadata": {},
   "outputs": [],
   "source": [
    "# 执行批次矫正\n",
    "import harmonypy as hm\n",
    "\n",
    "# 假设adata.obs中包含'batch'列\n",
    "sc.pp.normalize_total(adata, target_sum=1e4)\n",
    "sc.pp.log1p(adata)\n",
    "sc.pp.highly_variable_genes(adata, n_top_genes=2000, subset=True)\n",
    "sc.pp.scale(adata)\n",
    "sc.tl.pca(adata)\n",
    "\n",
    "# 使用Harmony进行批次矫正\n",
    "ho = hm.run_harmony(adata.obsm['X_pca'], adata.obs, 'batch')\n",
    "adata.obsm['X_pca_harmony'] = ho.Z_corr.T"
   ]
  },
  {
   "cell_type": "markdown",
   "id": "5f114da6",
   "metadata": {},
   "source": [
    "# 降维与可视化\n",
    "对矫正后的数据进行PCA降维，并计算UMAP和t-SNE嵌入。"
   ]
  },
  {
   "cell_type": "code",
   "execution_count": null,
   "id": "5260944f",
   "metadata": {},
   "outputs": [],
   "source": [
    "# 降维与可视化\n",
    "sc.pp.neighbors(adata, use_rep='X_pca_harmony')\n",
    "sc.tl.umap(adata)\n",
    "sc.tl.tsne(adata, use_rep='X_pca_harmony')"
   ]
  },
  {
   "cell_type": "markdown",
   "id": "c24a4cd8",
   "metadata": {},
   "source": [
    "# 绘制矫正前后的UMAP图\n",
    "分别绘制矫正前和矫正后的UMAP图，展示批次效应的变化。"
   ]
  },
  {
   "cell_type": "code",
   "execution_count": null,
   "id": "167d7da7",
   "metadata": {},
   "outputs": [],
   "source": [
    "# 绘制矫正前后的UMAP图\n",
    "fig, axes = plt.subplots(1, 2, figsize=(12, 6))\n",
    "sc.pl.umap(adata, color='batch', ax=axes[0], show=False, title='UMAP Before Correction')\n",
    "sc.pl.umap(adata, color='batch', ax=axes[1], show=False, title='UMAP After Correction', use_rep='X_pca_harmony')\n",
    "plt.tight_layout()\n",
    "plt.show()"
   ]
  },
  {
   "cell_type": "markdown",
   "id": "9bbf9f95",
   "metadata": {},
   "source": [
    "# 绘制矫正前后的t-SNE图\n",
    "分别绘制矫正前和矫正后的t-SNE图，进一步验证矫正效果。"
   ]
  },
  {
   "cell_type": "code",
   "execution_count": null,
   "id": "a3255e9c",
   "metadata": {},
   "outputs": [],
   "source": [
    "# 绘制矫正前后的t-SNE图\n",
    "fig, axes = plt.subplots(1, 2, figsize=(12, 6))\n",
    "sc.pl.tsne(adata, color='batch', ax=axes[0], show=False, title='t-SNE Before Correction')\n",
    "sc.pl.tsne(adata, color='batch', ax=axes[1], show=False, title='t-SNE After Correction', use_rep='X_pca_harmony')\n",
    "plt.tight_layout()\n",
    "plt.show()"
   ]
  },
  {
   "cell_type": "markdown",
   "id": "d92e64b4",
   "metadata": {},
   "source": [
    "# 计算与绘制聚类指标\n",
    "计算矫正前后数据的聚类指标（如NMI、ARI），并绘制对比图。"
   ]
  },
  {
   "cell_type": "code",
   "execution_count": null,
   "id": "f3bf76c4",
   "metadata": {},
   "outputs": [],
   "source": [
    "# 计算与绘制聚类指标\n",
    "from sklearn.metrics import normalized_mutual_info_score, adjusted_rand_score\n",
    "\n",
    "# 假设矫正前后的聚类结果存储在adata.obs中\n",
    "nmi_before = normalized_mutual_info_score(adata.obs['batch'], adata.obs['leiden'])\n",
    "nmi_after = normalized_mutual_info_score(adata.obs['batch'], adata.obs['leiden_harmony'])\n",
    "\n",
    "ari_before = adjusted_rand_score(adata.obs['batch'], adata.obs['leiden'])\n",
    "ari_after = adjusted_rand_score(adata.obs['batch'], adata.obs['leiden_harmony'])\n",
    "\n",
    "# 绘制对比图\n",
    "fig, ax = plt.subplots(figsize=(6, 4))\n",
    "metrics = ['NMI', 'ARI']\n",
    "before = [nmi_before, ari_before]\n",
    "after = [nmi_after, ari_after]\n",
    "\n",
    "ax.bar(metrics, before, label='Before Correction', alpha=0.7)\n",
    "ax.bar(metrics, after, label='After Correction', alpha=0.7)\n",
    "ax.set_ylabel('Score')\n",
    "ax.set_title('Clustering Metrics Before and After Correction')\n",
    "ax.legend()\n",
    "plt.show()"
   ]
  }
 ],
 "metadata": {
  "language_info": {
   "name": "python"
  }
 },
 "nbformat": 4,
 "nbformat_minor": 5
}
