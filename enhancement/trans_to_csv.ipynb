{
 "cells": [
  {
   "cell_type": "code",
   "execution_count": 2,
   "id": "522b292a",
   "metadata": {},
   "outputs": [],
   "source": [
    "import pandas as pd\n",
    "from rpy2.robjects import r, pandas2ri\n",
    "\n",
    "# 启用pandas和R之间的转换\n",
    "pandas2ri.activate()\n",
    "\n",
    "# 加载RDS文件\n",
    "def load_rds_file(rds_path):\n",
    "    # 使用rpy2调用R的readRDS函数\n",
    "    rds_data = r['readRDS'](rds_path)\n",
    "    return rds_data\n",
    "\n",
    "# 将RDS数据转换为Pandas DataFrame\n",
    "def convert_rds_to_dataframe(rds_data):\n",
    "    # 假设RDS文件包含一个Seurat对象或其他类似结构\n",
    "    # 提取表达矩阵（通常是counts或data槽）\n",
    "    try:\n",
    "        # 如果是Seurat对象，提取表达矩阵\n",
    "        expression_matrix = r['as.data.frame'](rds_data.slots['assays'].rx2('RNA').slots['counts'])\n",
    "    except AttributeError:\n",
    "        # 如果不是Seurat对象，直接尝试转换为DataFrame\n",
    "        expression_matrix = r['as.data.frame'](rds_data)\n",
    "    \n",
    "    # 转换为Pandas DataFrame\n",
    "    df = pandas2ri.rpy2py(expression_matrix)\n",
    "    return df\n",
    "\n",
    "# 导出为CSV文件\n",
    "def export_to_csv(df, output_path):\n",
    "    df.to_csv(output_path, index=True)\n"
   ]
  },
  {
   "cell_type": "code",
   "execution_count": 6,
   "id": "e712fd4e",
   "metadata": {},
   "outputs": [
    {
     "name": "stdout",
     "output_type": "stream",
     "text": [
      "['R version 4.5.0 (2025-04-11)']\n"
     ]
    }
   ],
   "source": [
    "import rpy2.robjects as ro\n",
    "print(ro.r('R.version.string'))"
   ]
  },
  {
   "cell_type": "code",
   "execution_count": 3,
   "id": "fe141d7d",
   "metadata": {},
   "outputs": [
    {
     "ename": "LookupError",
     "evalue": "assays",
     "output_type": "error",
     "traceback": [
      "\u001b[31m---------------------------------------------------------------------------\u001b[39m",
      "\u001b[31mLookupError\u001b[39m                               Traceback (most recent call last)",
      "\u001b[36mCell\u001b[39m\u001b[36m \u001b[39m\u001b[32mIn[3]\u001b[39m\u001b[32m, line 10\u001b[39m\n\u001b[32m      7\u001b[39m rds_data = load_rds_file(rds_file_path)\n\u001b[32m      9\u001b[39m \u001b[38;5;66;03m# 转换为DataFrame\u001b[39;00m\n\u001b[32m---> \u001b[39m\u001b[32m10\u001b[39m df = \u001b[43mconvert_rds_to_dataframe\u001b[49m\u001b[43m(\u001b[49m\u001b[43mrds_data\u001b[49m\u001b[43m)\u001b[49m\n\u001b[32m     12\u001b[39m \u001b[38;5;66;03m# 导出为CSV\u001b[39;00m\n\u001b[32m     13\u001b[39m export_to_csv(df, csv_output_path)\n",
      "\u001b[36mCell\u001b[39m\u001b[36m \u001b[39m\u001b[32mIn[2]\u001b[39m\u001b[32m, line 19\u001b[39m, in \u001b[36mconvert_rds_to_dataframe\u001b[39m\u001b[34m(rds_data)\u001b[39m\n\u001b[32m     14\u001b[39m \u001b[38;5;28;01mdef\u001b[39;00m\u001b[38;5;250m \u001b[39m\u001b[34mconvert_rds_to_dataframe\u001b[39m(rds_data):\n\u001b[32m     15\u001b[39m     \u001b[38;5;66;03m# 假设RDS文件包含一个Seurat对象或其他类似结构\u001b[39;00m\n\u001b[32m     16\u001b[39m     \u001b[38;5;66;03m# 提取表达矩阵（通常是counts或data槽）\u001b[39;00m\n\u001b[32m     17\u001b[39m     \u001b[38;5;28;01mtry\u001b[39;00m:\n\u001b[32m     18\u001b[39m         \u001b[38;5;66;03m# 如果是Seurat对象，提取表达矩阵\u001b[39;00m\n\u001b[32m---> \u001b[39m\u001b[32m19\u001b[39m         expression_matrix = r[\u001b[33m'\u001b[39m\u001b[33mas.data.frame\u001b[39m\u001b[33m'\u001b[39m](\u001b[43mrds_data\u001b[49m\u001b[43m.\u001b[49m\u001b[43mslots\u001b[49m\u001b[43m[\u001b[49m\u001b[33;43m'\u001b[39;49m\u001b[33;43massays\u001b[39;49m\u001b[33;43m'\u001b[39;49m\u001b[43m]\u001b[49m.rx2(\u001b[33m'\u001b[39m\u001b[33mRNA\u001b[39m\u001b[33m'\u001b[39m).slots[\u001b[33m'\u001b[39m\u001b[33mcounts\u001b[39m\u001b[33m'\u001b[39m])\n\u001b[32m     20\u001b[39m     \u001b[38;5;28;01mexcept\u001b[39;00m \u001b[38;5;167;01mAttributeError\u001b[39;00m:\n\u001b[32m     21\u001b[39m         \u001b[38;5;66;03m# 如果不是Seurat对象，直接尝试转换为DataFrame\u001b[39;00m\n\u001b[32m     22\u001b[39m         expression_matrix = r[\u001b[33m'\u001b[39m\u001b[33mas.data.frame\u001b[39m\u001b[33m'\u001b[39m](rds_data)\n",
      "\u001b[36mFile \u001b[39m\u001b[32m~/anaconda3/envs/scfoundation/lib/python3.13/site-packages/rpy2/robjects/robject.py:51\u001b[39m, in \u001b[36mRSlots.__getitem__\u001b[39m\u001b[34m(self, key)\u001b[39m\n\u001b[32m     50\u001b[39m \u001b[38;5;28;01mdef\u001b[39;00m\u001b[38;5;250m \u001b[39m\u001b[34m__getitem__\u001b[39m(\u001b[38;5;28mself\u001b[39m, key: \u001b[38;5;28mstr\u001b[39m):\n\u001b[32m---> \u001b[39m\u001b[32m51\u001b[39m     value = \u001b[38;5;28;43mself\u001b[39;49m\u001b[43m.\u001b[49m\u001b[43m_robj\u001b[49m\u001b[43m.\u001b[49m\u001b[43mdo_slot\u001b[49m\u001b[43m(\u001b[49m\u001b[43mkey\u001b[49m\u001b[43m)\u001b[49m\n\u001b[32m     52\u001b[39m     \u001b[38;5;28;01mreturn\u001b[39;00m conversion.get_conversion().rpy2py(value)\n",
      "\u001b[36mFile \u001b[39m\u001b[32m~/anaconda3/envs/scfoundation/lib/python3.13/site-packages/rpy2/rinterface_lib/conversion.py:45\u001b[39m, in \u001b[36m_cdata_res_to_rinterface.<locals>._\u001b[39m\u001b[34m(*args, **kwargs)\u001b[39m\n\u001b[32m     44\u001b[39m \u001b[38;5;28;01mdef\u001b[39;00m\u001b[38;5;250m \u001b[39m\u001b[34m_\u001b[39m(*args, **kwargs):\n\u001b[32m---> \u001b[39m\u001b[32m45\u001b[39m     cdata = \u001b[43mfunction\u001b[49m\u001b[43m(\u001b[49m\u001b[43m*\u001b[49m\u001b[43margs\u001b[49m\u001b[43m,\u001b[49m\u001b[43m \u001b[49m\u001b[43m*\u001b[49m\u001b[43m*\u001b[49m\u001b[43mkwargs\u001b[49m\u001b[43m)\u001b[49m\n\u001b[32m     46\u001b[39m     \u001b[38;5;66;03m# TODO: test cdata is of the expected CType\u001b[39;00m\n\u001b[32m     47\u001b[39m     \u001b[38;5;28;01mreturn\u001b[39;00m _cdata_to_rinterface(cdata)\n",
      "\u001b[36mFile \u001b[39m\u001b[32m~/anaconda3/envs/scfoundation/lib/python3.13/site-packages/rpy2/rinterface_lib/sexp.py:181\u001b[39m, in \u001b[36mSexp.do_slot\u001b[39m\u001b[34m(self, name)\u001b[39m\n\u001b[32m    179\u001b[39m     name_r = rmemory.protect(openrlib.rlib.Rf_install(cchar))\n\u001b[32m    180\u001b[39m     \u001b[38;5;28;01mif\u001b[39;00m \u001b[38;5;129;01mnot\u001b[39;00m _rinterface._has_slot(\u001b[38;5;28mself\u001b[39m.__sexp__._cdata, name_r):\n\u001b[32m--> \u001b[39m\u001b[32m181\u001b[39m         \u001b[38;5;28;01mraise\u001b[39;00m \u001b[38;5;167;01mLookupError\u001b[39;00m(name)\n\u001b[32m    182\u001b[39m     res = openrlib.rlib.R_do_slot(\u001b[38;5;28mself\u001b[39m.__sexp__._cdata, name_r)\n\u001b[32m    183\u001b[39m \u001b[38;5;28;01mreturn\u001b[39;00m res\n",
      "\u001b[31mLookupError\u001b[39m: assays"
     ]
    }
   ],
   "source": [
    "# 输入RDS文件路径\n",
    "rds_file_path = \"baron_human_ref.rds\"\n",
    "# 输出CSV文件路径\n",
    "csv_output_path = 'baron_human_ref_19264_fromsaver.csv'\n",
    "\n",
    "# 加载RDS文件\n",
    "rds_data = load_rds_file(rds_file_path)\n",
    "\n",
    "# 转换为DataFrame\n",
    "df = convert_rds_to_dataframe(rds_data)\n",
    "\n",
    "# 导出为CSV\n",
    "export_to_csv(df, csv_output_path)\n",
    "print(f\"数据已成功导出到 {csv_output_path}\")"
   ]
  }
 ],
 "metadata": {
  "kernelspec": {
   "display_name": "scfoundation",
   "language": "python",
   "name": "python3"
  },
  "language_info": {
   "codemirror_mode": {
    "name": "ipython",
    "version": 3
   },
   "file_extension": ".py",
   "mimetype": "text/x-python",
   "name": "python",
   "nbconvert_exporter": "python",
   "pygments_lexer": "ipython3",
   "version": "3.13.3"
  }
 },
 "nbformat": 4,
 "nbformat_minor": 5
}
